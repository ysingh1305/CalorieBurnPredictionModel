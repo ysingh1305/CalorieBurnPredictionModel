{
 "cells": [
  {
   "cell_type": "markdown",
   "id": "1d2b6592-6647-4e31-8e41-cc1ae246cdba",
   "metadata": {},
   "source": [
    "## Calorie Burn Prediction Model"
   ]
  },
  {
   "cell_type": "code",
   "execution_count": 1,
   "id": "a1d78351-6c82-4fb9-8801-bfa9c885d493",
   "metadata": {},
   "outputs": [],
   "source": [
    "import pandas as pd"
   ]
  },
  {
   "cell_type": "code",
   "execution_count": 2,
   "id": "eb5129ea-fc8b-490c-99c7-95d83d3abaec",
   "metadata": {
    "scrolled": true
   },
   "outputs": [
    {
     "data": {
      "text/html": [
       "<div>\n",
       "<style scoped>\n",
       "    .dataframe tbody tr th:only-of-type {\n",
       "        vertical-align: middle;\n",
       "    }\n",
       "\n",
       "    .dataframe tbody tr th {\n",
       "        vertical-align: top;\n",
       "    }\n",
       "\n",
       "    .dataframe thead th {\n",
       "        text-align: right;\n",
       "    }\n",
       "</style>\n",
       "<table border=\"1\" class=\"dataframe\">\n",
       "  <thead>\n",
       "    <tr style=\"text-align: right;\">\n",
       "      <th></th>\n",
       "      <th>Age</th>\n",
       "      <th>Gender</th>\n",
       "      <th>Weight (kg)</th>\n",
       "      <th>Height (m)</th>\n",
       "      <th>Max_BPM</th>\n",
       "      <th>Avg_BPM</th>\n",
       "      <th>Resting_BPM</th>\n",
       "      <th>Session_Duration (hours)</th>\n",
       "      <th>Calories_Burned</th>\n",
       "      <th>Workout_Type</th>\n",
       "      <th>Fat_Percentage</th>\n",
       "      <th>Water_Intake (liters)</th>\n",
       "      <th>Workout_Frequency (days/week)</th>\n",
       "      <th>Experience_Level</th>\n",
       "      <th>BMI</th>\n",
       "    </tr>\n",
       "  </thead>\n",
       "  <tbody>\n",
       "    <tr>\n",
       "      <th>0</th>\n",
       "      <td>56.0</td>\n",
       "      <td>Male</td>\n",
       "      <td>88.3</td>\n",
       "      <td>1.71</td>\n",
       "      <td>180.0</td>\n",
       "      <td>157.0</td>\n",
       "      <td>60.0</td>\n",
       "      <td>1.69</td>\n",
       "      <td>1313.0</td>\n",
       "      <td>Yoga</td>\n",
       "      <td>12.6</td>\n",
       "      <td>3.5</td>\n",
       "      <td>4.0</td>\n",
       "      <td>3.0</td>\n",
       "      <td>30.20</td>\n",
       "    </tr>\n",
       "    <tr>\n",
       "      <th>1</th>\n",
       "      <td>46.0</td>\n",
       "      <td>Female</td>\n",
       "      <td>74.9</td>\n",
       "      <td>1.53</td>\n",
       "      <td>179.0</td>\n",
       "      <td>151.0</td>\n",
       "      <td>66.0</td>\n",
       "      <td>1.30</td>\n",
       "      <td>883.0</td>\n",
       "      <td>HIIT</td>\n",
       "      <td>33.9</td>\n",
       "      <td>2.1</td>\n",
       "      <td>4.0</td>\n",
       "      <td>2.0</td>\n",
       "      <td>32.00</td>\n",
       "    </tr>\n",
       "    <tr>\n",
       "      <th>2</th>\n",
       "      <td>32.0</td>\n",
       "      <td>Female</td>\n",
       "      <td>68.1</td>\n",
       "      <td>1.66</td>\n",
       "      <td>167.0</td>\n",
       "      <td>122.0</td>\n",
       "      <td>54.0</td>\n",
       "      <td>1.11</td>\n",
       "      <td>677.0</td>\n",
       "      <td>Cardio</td>\n",
       "      <td>33.4</td>\n",
       "      <td>2.3</td>\n",
       "      <td>4.0</td>\n",
       "      <td>2.0</td>\n",
       "      <td>24.71</td>\n",
       "    </tr>\n",
       "    <tr>\n",
       "      <th>3</th>\n",
       "      <td>25.0</td>\n",
       "      <td>Male</td>\n",
       "      <td>53.2</td>\n",
       "      <td>1.70</td>\n",
       "      <td>190.0</td>\n",
       "      <td>164.0</td>\n",
       "      <td>56.0</td>\n",
       "      <td>0.59</td>\n",
       "      <td>532.0</td>\n",
       "      <td>Strength</td>\n",
       "      <td>28.8</td>\n",
       "      <td>2.1</td>\n",
       "      <td>3.0</td>\n",
       "      <td>1.0</td>\n",
       "      <td>18.41</td>\n",
       "    </tr>\n",
       "    <tr>\n",
       "      <th>4</th>\n",
       "      <td>38.0</td>\n",
       "      <td>Male</td>\n",
       "      <td>46.1</td>\n",
       "      <td>1.79</td>\n",
       "      <td>188.0</td>\n",
       "      <td>158.0</td>\n",
       "      <td>68.0</td>\n",
       "      <td>0.64</td>\n",
       "      <td>556.0</td>\n",
       "      <td>Strength</td>\n",
       "      <td>29.2</td>\n",
       "      <td>2.8</td>\n",
       "      <td>3.0</td>\n",
       "      <td>1.0</td>\n",
       "      <td>14.39</td>\n",
       "    </tr>\n",
       "    <tr>\n",
       "      <th>5</th>\n",
       "      <td>56.0</td>\n",
       "      <td>Female</td>\n",
       "      <td>58.0</td>\n",
       "      <td>1.68</td>\n",
       "      <td>168.0</td>\n",
       "      <td>156.0</td>\n",
       "      <td>74.0</td>\n",
       "      <td>1.59</td>\n",
       "      <td>1116.0</td>\n",
       "      <td>HIIT</td>\n",
       "      <td>15.5</td>\n",
       "      <td>2.7</td>\n",
       "      <td>5.0</td>\n",
       "      <td>3.0</td>\n",
       "      <td>20.55</td>\n",
       "    </tr>\n",
       "    <tr>\n",
       "      <th>6</th>\n",
       "      <td>36.0</td>\n",
       "      <td>Male</td>\n",
       "      <td>70.3</td>\n",
       "      <td>1.72</td>\n",
       "      <td>174.0</td>\n",
       "      <td>169.0</td>\n",
       "      <td>73.0</td>\n",
       "      <td>1.49</td>\n",
       "      <td>1385.0</td>\n",
       "      <td>Cardio</td>\n",
       "      <td>21.3</td>\n",
       "      <td>2.3</td>\n",
       "      <td>3.0</td>\n",
       "      <td>2.0</td>\n",
       "      <td>23.76</td>\n",
       "    </tr>\n",
       "    <tr>\n",
       "      <th>7</th>\n",
       "      <td>40.0</td>\n",
       "      <td>Female</td>\n",
       "      <td>69.7</td>\n",
       "      <td>1.51</td>\n",
       "      <td>189.0</td>\n",
       "      <td>141.0</td>\n",
       "      <td>64.0</td>\n",
       "      <td>1.27</td>\n",
       "      <td>895.0</td>\n",
       "      <td>Cardio</td>\n",
       "      <td>30.6</td>\n",
       "      <td>1.9</td>\n",
       "      <td>3.0</td>\n",
       "      <td>2.0</td>\n",
       "      <td>30.57</td>\n",
       "    </tr>\n",
       "    <tr>\n",
       "      <th>8</th>\n",
       "      <td>28.0</td>\n",
       "      <td>Male</td>\n",
       "      <td>121.7</td>\n",
       "      <td>1.94</td>\n",
       "      <td>185.0</td>\n",
       "      <td>127.0</td>\n",
       "      <td>52.0</td>\n",
       "      <td>1.03</td>\n",
       "      <td>719.0</td>\n",
       "      <td>Strength</td>\n",
       "      <td>28.9</td>\n",
       "      <td>2.6</td>\n",
       "      <td>4.0</td>\n",
       "      <td>2.0</td>\n",
       "      <td>32.34</td>\n",
       "    </tr>\n",
       "    <tr>\n",
       "      <th>9</th>\n",
       "      <td>28.0</td>\n",
       "      <td>Male</td>\n",
       "      <td>101.8</td>\n",
       "      <td>1.84</td>\n",
       "      <td>169.0</td>\n",
       "      <td>136.0</td>\n",
       "      <td>64.0</td>\n",
       "      <td>1.08</td>\n",
       "      <td>808.0</td>\n",
       "      <td>Cardio</td>\n",
       "      <td>29.7</td>\n",
       "      <td>2.7</td>\n",
       "      <td>3.0</td>\n",
       "      <td>1.0</td>\n",
       "      <td>30.07</td>\n",
       "    </tr>\n",
       "    <tr>\n",
       "      <th>10</th>\n",
       "      <td>41.0</td>\n",
       "      <td>Male</td>\n",
       "      <td>120.8</td>\n",
       "      <td>1.67</td>\n",
       "      <td>188.0</td>\n",
       "      <td>146.0</td>\n",
       "      <td>54.0</td>\n",
       "      <td>0.82</td>\n",
       "      <td>593.0</td>\n",
       "      <td>HIIT</td>\n",
       "      <td>20.5</td>\n",
       "      <td>3.0</td>\n",
       "      <td>2.0</td>\n",
       "      <td>1.0</td>\n",
       "      <td>43.31</td>\n",
       "    </tr>\n",
       "    <tr>\n",
       "      <th>11</th>\n",
       "      <td>53.0</td>\n",
       "      <td>Male</td>\n",
       "      <td>51.7</td>\n",
       "      <td>1.70</td>\n",
       "      <td>175.0</td>\n",
       "      <td>152.0</td>\n",
       "      <td>72.0</td>\n",
       "      <td>1.15</td>\n",
       "      <td>865.0</td>\n",
       "      <td>HIIT</td>\n",
       "      <td>23.6</td>\n",
       "      <td>3.5</td>\n",
       "      <td>3.0</td>\n",
       "      <td>2.0</td>\n",
       "      <td>17.89</td>\n",
       "    </tr>\n",
       "    <tr>\n",
       "      <th>12</th>\n",
       "      <td>57.0</td>\n",
       "      <td>Male</td>\n",
       "      <td>112.5</td>\n",
       "      <td>1.61</td>\n",
       "      <td>195.0</td>\n",
       "      <td>165.0</td>\n",
       "      <td>61.0</td>\n",
       "      <td>1.24</td>\n",
       "      <td>1013.0</td>\n",
       "      <td>Cardio</td>\n",
       "      <td>22.1</td>\n",
       "      <td>2.7</td>\n",
       "      <td>3.0</td>\n",
       "      <td>2.0</td>\n",
       "      <td>43.40</td>\n",
       "    </tr>\n",
       "    <tr>\n",
       "      <th>13</th>\n",
       "      <td>41.0</td>\n",
       "      <td>Male</td>\n",
       "      <td>94.5</td>\n",
       "      <td>2.00</td>\n",
       "      <td>179.0</td>\n",
       "      <td>136.0</td>\n",
       "      <td>69.0</td>\n",
       "      <td>1.18</td>\n",
       "      <td>794.0</td>\n",
       "      <td>HIIT</td>\n",
       "      <td>27.6</td>\n",
       "      <td>3.7</td>\n",
       "      <td>3.0</td>\n",
       "      <td>1.0</td>\n",
       "      <td>23.62</td>\n",
       "    </tr>\n",
       "    <tr>\n",
       "      <th>14</th>\n",
       "      <td>20.0</td>\n",
       "      <td>Male</td>\n",
       "      <td>117.7</td>\n",
       "      <td>1.81</td>\n",
       "      <td>196.0</td>\n",
       "      <td>161.0</td>\n",
       "      <td>54.0</td>\n",
       "      <td>1.35</td>\n",
       "      <td>1195.0</td>\n",
       "      <td>Yoga</td>\n",
       "      <td>26.4</td>\n",
       "      <td>3.3</td>\n",
       "      <td>3.0</td>\n",
       "      <td>2.0</td>\n",
       "      <td>35.93</td>\n",
       "    </tr>\n",
       "    <tr>\n",
       "      <th>15</th>\n",
       "      <td>39.0</td>\n",
       "      <td>Female</td>\n",
       "      <td>42.5</td>\n",
       "      <td>1.75</td>\n",
       "      <td>181.0</td>\n",
       "      <td>131.0</td>\n",
       "      <td>52.0</td>\n",
       "      <td>1.13</td>\n",
       "      <td>740.0</td>\n",
       "      <td>Strength</td>\n",
       "      <td>26.2</td>\n",
       "      <td>2.1</td>\n",
       "      <td>2.0</td>\n",
       "      <td>1.0</td>\n",
       "      <td>13.88</td>\n",
       "    </tr>\n",
       "    <tr>\n",
       "      <th>16</th>\n",
       "      <td>19.0</td>\n",
       "      <td>Female</td>\n",
       "      <td>64.0</td>\n",
       "      <td>1.53</td>\n",
       "      <td>166.0</td>\n",
       "      <td>167.0</td>\n",
       "      <td>58.0</td>\n",
       "      <td>1.33</td>\n",
       "      <td>1111.0</td>\n",
       "      <td>HIIT</td>\n",
       "      <td>29.8</td>\n",
       "      <td>2.3</td>\n",
       "      <td>3.0</td>\n",
       "      <td>2.0</td>\n",
       "      <td>27.34</td>\n",
       "    </tr>\n",
       "    <tr>\n",
       "      <th>17</th>\n",
       "      <td>41.0</td>\n",
       "      <td>Female</td>\n",
       "      <td>43.8</td>\n",
       "      <td>1.77</td>\n",
       "      <td>182.0</td>\n",
       "      <td>165.0</td>\n",
       "      <td>58.0</td>\n",
       "      <td>1.19</td>\n",
       "      <td>884.0</td>\n",
       "      <td>Cardio</td>\n",
       "      <td>31.9</td>\n",
       "      <td>1.6</td>\n",
       "      <td>3.0</td>\n",
       "      <td>1.0</td>\n",
       "      <td>13.98</td>\n",
       "    </tr>\n",
       "    <tr>\n",
       "      <th>18</th>\n",
       "      <td>47.0</td>\n",
       "      <td>Female</td>\n",
       "      <td>66.8</td>\n",
       "      <td>1.75</td>\n",
       "      <td>199.0</td>\n",
       "      <td>146.0</td>\n",
       "      <td>56.0</td>\n",
       "      <td>1.13</td>\n",
       "      <td>742.0</td>\n",
       "      <td>Strength</td>\n",
       "      <td>32.8</td>\n",
       "      <td>2.5</td>\n",
       "      <td>3.0</td>\n",
       "      <td>2.0</td>\n",
       "      <td>21.81</td>\n",
       "    </tr>\n",
       "    <tr>\n",
       "      <th>19</th>\n",
       "      <td>55.0</td>\n",
       "      <td>Female</td>\n",
       "      <td>75.2</td>\n",
       "      <td>1.67</td>\n",
       "      <td>188.0</td>\n",
       "      <td>167.0</td>\n",
       "      <td>51.0</td>\n",
       "      <td>1.37</td>\n",
       "      <td>1030.0</td>\n",
       "      <td>HIIT</td>\n",
       "      <td>25.2</td>\n",
       "      <td>2.2</td>\n",
       "      <td>2.0</td>\n",
       "      <td>1.0</td>\n",
       "      <td>26.96</td>\n",
       "    </tr>\n",
       "  </tbody>\n",
       "</table>\n",
       "</div>"
      ],
      "text/plain": [
       "     Age  Gender  Weight (kg)  Height (m)  Max_BPM  Avg_BPM  Resting_BPM  \\\n",
       "0   56.0    Male         88.3        1.71    180.0    157.0         60.0   \n",
       "1   46.0  Female         74.9        1.53    179.0    151.0         66.0   \n",
       "2   32.0  Female         68.1        1.66    167.0    122.0         54.0   \n",
       "3   25.0    Male         53.2        1.70    190.0    164.0         56.0   \n",
       "4   38.0    Male         46.1        1.79    188.0    158.0         68.0   \n",
       "5   56.0  Female         58.0        1.68    168.0    156.0         74.0   \n",
       "6   36.0    Male         70.3        1.72    174.0    169.0         73.0   \n",
       "7   40.0  Female         69.7        1.51    189.0    141.0         64.0   \n",
       "8   28.0    Male        121.7        1.94    185.0    127.0         52.0   \n",
       "9   28.0    Male        101.8        1.84    169.0    136.0         64.0   \n",
       "10  41.0    Male        120.8        1.67    188.0    146.0         54.0   \n",
       "11  53.0    Male         51.7        1.70    175.0    152.0         72.0   \n",
       "12  57.0    Male        112.5        1.61    195.0    165.0         61.0   \n",
       "13  41.0    Male         94.5        2.00    179.0    136.0         69.0   \n",
       "14  20.0    Male        117.7        1.81    196.0    161.0         54.0   \n",
       "15  39.0  Female         42.5        1.75    181.0    131.0         52.0   \n",
       "16  19.0  Female         64.0        1.53    166.0    167.0         58.0   \n",
       "17  41.0  Female         43.8        1.77    182.0    165.0         58.0   \n",
       "18  47.0  Female         66.8        1.75    199.0    146.0         56.0   \n",
       "19  55.0  Female         75.2        1.67    188.0    167.0         51.0   \n",
       "\n",
       "    Session_Duration (hours)  Calories_Burned Workout_Type  Fat_Percentage  \\\n",
       "0                       1.69           1313.0         Yoga            12.6   \n",
       "1                       1.30            883.0         HIIT            33.9   \n",
       "2                       1.11            677.0       Cardio            33.4   \n",
       "3                       0.59            532.0     Strength            28.8   \n",
       "4                       0.64            556.0     Strength            29.2   \n",
       "5                       1.59           1116.0         HIIT            15.5   \n",
       "6                       1.49           1385.0       Cardio            21.3   \n",
       "7                       1.27            895.0       Cardio            30.6   \n",
       "8                       1.03            719.0     Strength            28.9   \n",
       "9                       1.08            808.0       Cardio            29.7   \n",
       "10                      0.82            593.0         HIIT            20.5   \n",
       "11                      1.15            865.0         HIIT            23.6   \n",
       "12                      1.24           1013.0       Cardio            22.1   \n",
       "13                      1.18            794.0         HIIT            27.6   \n",
       "14                      1.35           1195.0         Yoga            26.4   \n",
       "15                      1.13            740.0     Strength            26.2   \n",
       "16                      1.33           1111.0         HIIT            29.8   \n",
       "17                      1.19            884.0       Cardio            31.9   \n",
       "18                      1.13            742.0     Strength            32.8   \n",
       "19                      1.37           1030.0         HIIT            25.2   \n",
       "\n",
       "    Water_Intake (liters)  Workout_Frequency (days/week)  Experience_Level  \\\n",
       "0                     3.5                            4.0               3.0   \n",
       "1                     2.1                            4.0               2.0   \n",
       "2                     2.3                            4.0               2.0   \n",
       "3                     2.1                            3.0               1.0   \n",
       "4                     2.8                            3.0               1.0   \n",
       "5                     2.7                            5.0               3.0   \n",
       "6                     2.3                            3.0               2.0   \n",
       "7                     1.9                            3.0               2.0   \n",
       "8                     2.6                            4.0               2.0   \n",
       "9                     2.7                            3.0               1.0   \n",
       "10                    3.0                            2.0               1.0   \n",
       "11                    3.5                            3.0               2.0   \n",
       "12                    2.7                            3.0               2.0   \n",
       "13                    3.7                            3.0               1.0   \n",
       "14                    3.3                            3.0               2.0   \n",
       "15                    2.1                            2.0               1.0   \n",
       "16                    2.3                            3.0               2.0   \n",
       "17                    1.6                            3.0               1.0   \n",
       "18                    2.5                            3.0               2.0   \n",
       "19                    2.2                            2.0               1.0   \n",
       "\n",
       "      BMI  \n",
       "0   30.20  \n",
       "1   32.00  \n",
       "2   24.71  \n",
       "3   18.41  \n",
       "4   14.39  \n",
       "5   20.55  \n",
       "6   23.76  \n",
       "7   30.57  \n",
       "8   32.34  \n",
       "9   30.07  \n",
       "10  43.31  \n",
       "11  17.89  \n",
       "12  43.40  \n",
       "13  23.62  \n",
       "14  35.93  \n",
       "15  13.88  \n",
       "16  27.34  \n",
       "17  13.98  \n",
       "18  21.81  \n",
       "19  26.96  "
      ]
     },
     "execution_count": 2,
     "metadata": {},
     "output_type": "execute_result"
    }
   ],
   "source": [
    "df = pd.read_csv('gym_members_data.csv')\n",
    "df.head(20)"
   ]
  },
  {
   "cell_type": "code",
   "execution_count": 3,
   "id": "f1d5df75-4e41-4d0c-b68e-840d33599179",
   "metadata": {},
   "outputs": [
    {
     "data": {
      "text/html": [
       "<div>\n",
       "<style scoped>\n",
       "    .dataframe tbody tr th:only-of-type {\n",
       "        vertical-align: middle;\n",
       "    }\n",
       "\n",
       "    .dataframe tbody tr th {\n",
       "        vertical-align: top;\n",
       "    }\n",
       "\n",
       "    .dataframe thead th {\n",
       "        text-align: right;\n",
       "    }\n",
       "</style>\n",
       "<table border=\"1\" class=\"dataframe\">\n",
       "  <thead>\n",
       "    <tr style=\"text-align: right;\">\n",
       "      <th></th>\n",
       "      <th>Age</th>\n",
       "      <th>Weight (kg)</th>\n",
       "      <th>Height (m)</th>\n",
       "      <th>Max_BPM</th>\n",
       "      <th>Avg_BPM</th>\n",
       "      <th>Resting_BPM</th>\n",
       "      <th>Session_Duration (hours)</th>\n",
       "      <th>Calories_Burned</th>\n",
       "      <th>Fat_Percentage</th>\n",
       "      <th>Water_Intake (liters)</th>\n",
       "      <th>Workout_Frequency (days/week)</th>\n",
       "      <th>Experience_Level</th>\n",
       "      <th>BMI</th>\n",
       "    </tr>\n",
       "  </thead>\n",
       "  <tbody>\n",
       "    <tr>\n",
       "      <th>count</th>\n",
       "      <td>1039.000000</td>\n",
       "      <td>1036.000000</td>\n",
       "      <td>1043.000000</td>\n",
       "      <td>1041.000000</td>\n",
       "      <td>1040.000000</td>\n",
       "      <td>1047.000000</td>\n",
       "      <td>1046.000000</td>\n",
       "      <td>1036.000000</td>\n",
       "      <td>1045.000000</td>\n",
       "      <td>1047.000000</td>\n",
       "      <td>1040.000000</td>\n",
       "      <td>1041.000000</td>\n",
       "      <td>1040.000000</td>\n",
       "    </tr>\n",
       "    <tr>\n",
       "      <th>mean</th>\n",
       "      <td>38.781521</td>\n",
       "      <td>73.563803</td>\n",
       "      <td>1.722579</td>\n",
       "      <td>179.907781</td>\n",
       "      <td>143.994231</td>\n",
       "      <td>62.255969</td>\n",
       "      <td>1.253834</td>\n",
       "      <td>907.736486</td>\n",
       "      <td>25.109187</td>\n",
       "      <td>2.622541</td>\n",
       "      <td>3.336538</td>\n",
       "      <td>1.816523</td>\n",
       "      <td>24.946798</td>\n",
       "    </tr>\n",
       "    <tr>\n",
       "      <th>std</th>\n",
       "      <td>12.170964</td>\n",
       "      <td>21.032380</td>\n",
       "      <td>0.128416</td>\n",
       "      <td>11.549607</td>\n",
       "      <td>14.369320</td>\n",
       "      <td>7.325497</td>\n",
       "      <td>0.342009</td>\n",
       "      <td>272.207024</td>\n",
       "      <td>6.212877</td>\n",
       "      <td>0.598331</td>\n",
       "      <td>0.909902</td>\n",
       "      <td>0.737691</td>\n",
       "      <td>6.652353</td>\n",
       "    </tr>\n",
       "    <tr>\n",
       "      <th>min</th>\n",
       "      <td>18.000000</td>\n",
       "      <td>40.000000</td>\n",
       "      <td>1.500000</td>\n",
       "      <td>160.000000</td>\n",
       "      <td>120.000000</td>\n",
       "      <td>50.000000</td>\n",
       "      <td>0.500000</td>\n",
       "      <td>303.000000</td>\n",
       "      <td>10.000000</td>\n",
       "      <td>1.500000</td>\n",
       "      <td>2.000000</td>\n",
       "      <td>1.000000</td>\n",
       "      <td>12.320000</td>\n",
       "    </tr>\n",
       "    <tr>\n",
       "      <th>25%</th>\n",
       "      <td>28.000000</td>\n",
       "      <td>58.100000</td>\n",
       "      <td>1.620000</td>\n",
       "      <td>170.000000</td>\n",
       "      <td>131.000000</td>\n",
       "      <td>56.000000</td>\n",
       "      <td>1.040000</td>\n",
       "      <td>720.750000</td>\n",
       "      <td>21.300000</td>\n",
       "      <td>2.200000</td>\n",
       "      <td>3.000000</td>\n",
       "      <td>1.000000</td>\n",
       "      <td>20.200000</td>\n",
       "    </tr>\n",
       "    <tr>\n",
       "      <th>50%</th>\n",
       "      <td>40.000000</td>\n",
       "      <td>69.550000</td>\n",
       "      <td>1.710000</td>\n",
       "      <td>180.000000</td>\n",
       "      <td>143.000000</td>\n",
       "      <td>62.000000</td>\n",
       "      <td>1.265000</td>\n",
       "      <td>895.000000</td>\n",
       "      <td>26.400000</td>\n",
       "      <td>2.600000</td>\n",
       "      <td>3.000000</td>\n",
       "      <td>2.000000</td>\n",
       "      <td>24.160000</td>\n",
       "    </tr>\n",
       "    <tr>\n",
       "      <th>75%</th>\n",
       "      <td>50.000000</td>\n",
       "      <td>85.625000</td>\n",
       "      <td>1.800000</td>\n",
       "      <td>190.000000</td>\n",
       "      <td>157.000000</td>\n",
       "      <td>68.000000</td>\n",
       "      <td>1.450000</td>\n",
       "      <td>1080.250000</td>\n",
       "      <td>29.400000</td>\n",
       "      <td>3.100000</td>\n",
       "      <td>4.000000</td>\n",
       "      <td>2.000000</td>\n",
       "      <td>28.567500</td>\n",
       "    </tr>\n",
       "    <tr>\n",
       "      <th>max</th>\n",
       "      <td>59.000000</td>\n",
       "      <td>129.900000</td>\n",
       "      <td>2.000000</td>\n",
       "      <td>199.000000</td>\n",
       "      <td>169.000000</td>\n",
       "      <td>74.000000</td>\n",
       "      <td>2.000000</td>\n",
       "      <td>1783.000000</td>\n",
       "      <td>35.000000</td>\n",
       "      <td>3.700000</td>\n",
       "      <td>5.000000</td>\n",
       "      <td>3.000000</td>\n",
       "      <td>49.840000</td>\n",
       "    </tr>\n",
       "  </tbody>\n",
       "</table>\n",
       "</div>"
      ],
      "text/plain": [
       "               Age  Weight (kg)   Height (m)      Max_BPM      Avg_BPM  \\\n",
       "count  1039.000000  1036.000000  1043.000000  1041.000000  1040.000000   \n",
       "mean     38.781521    73.563803     1.722579   179.907781   143.994231   \n",
       "std      12.170964    21.032380     0.128416    11.549607    14.369320   \n",
       "min      18.000000    40.000000     1.500000   160.000000   120.000000   \n",
       "25%      28.000000    58.100000     1.620000   170.000000   131.000000   \n",
       "50%      40.000000    69.550000     1.710000   180.000000   143.000000   \n",
       "75%      50.000000    85.625000     1.800000   190.000000   157.000000   \n",
       "max      59.000000   129.900000     2.000000   199.000000   169.000000   \n",
       "\n",
       "       Resting_BPM  Session_Duration (hours)  Calories_Burned  Fat_Percentage  \\\n",
       "count  1047.000000               1046.000000      1036.000000     1045.000000   \n",
       "mean     62.255969                  1.253834       907.736486       25.109187   \n",
       "std       7.325497                  0.342009       272.207024        6.212877   \n",
       "min      50.000000                  0.500000       303.000000       10.000000   \n",
       "25%      56.000000                  1.040000       720.750000       21.300000   \n",
       "50%      62.000000                  1.265000       895.000000       26.400000   \n",
       "75%      68.000000                  1.450000      1080.250000       29.400000   \n",
       "max      74.000000                  2.000000      1783.000000       35.000000   \n",
       "\n",
       "       Water_Intake (liters)  Workout_Frequency (days/week)  Experience_Level  \\\n",
       "count            1047.000000                    1040.000000       1041.000000   \n",
       "mean                2.622541                       3.336538          1.816523   \n",
       "std                 0.598331                       0.909902          0.737691   \n",
       "min                 1.500000                       2.000000          1.000000   \n",
       "25%                 2.200000                       3.000000          1.000000   \n",
       "50%                 2.600000                       3.000000          2.000000   \n",
       "75%                 3.100000                       4.000000          2.000000   \n",
       "max                 3.700000                       5.000000          3.000000   \n",
       "\n",
       "               BMI  \n",
       "count  1040.000000  \n",
       "mean     24.946798  \n",
       "std       6.652353  \n",
       "min      12.320000  \n",
       "25%      20.200000  \n",
       "50%      24.160000  \n",
       "75%      28.567500  \n",
       "max      49.840000  "
      ]
     },
     "execution_count": 3,
     "metadata": {},
     "output_type": "execute_result"
    }
   ],
   "source": [
    "df.describe()"
   ]
  },
  {
   "cell_type": "code",
   "execution_count": 4,
   "id": "34edf300-27d9-4762-b817-f369e4a1e273",
   "metadata": {},
   "outputs": [
    {
     "data": {
      "text/plain": [
       "Index(['Age', 'Gender', 'Weight (kg)', 'Height (m)', 'Max_BPM', 'Avg_BPM',\n",
       "       'Resting_BPM', 'Session_Duration (hours)', 'Calories_Burned',\n",
       "       'Workout_Type', 'Fat_Percentage', 'Water_Intake (liters)',\n",
       "       'Workout_Frequency (days/week)', 'Experience_Level', 'BMI'],\n",
       "      dtype='object')"
      ]
     },
     "execution_count": 4,
     "metadata": {},
     "output_type": "execute_result"
    }
   ],
   "source": [
    "df.columns"
   ]
  },
  {
   "cell_type": "code",
   "execution_count": 5,
   "id": "f2b94a7b-8db6-4ffa-b1da-885e9b75497c",
   "metadata": {},
   "outputs": [
    {
     "name": "stdout",
     "output_type": "stream",
     "text": [
      "<class 'pandas.core.frame.DataFrame'>\n",
      "RangeIndex: 1073 entries, 0 to 1072\n",
      "Data columns (total 15 columns):\n",
      " #   Column                         Non-Null Count  Dtype  \n",
      "---  ------                         --------------  -----  \n",
      " 0   Age                            1039 non-null   float64\n",
      " 1   Gender                         1042 non-null   object \n",
      " 2   Weight (kg)                    1036 non-null   float64\n",
      " 3   Height (m)                     1043 non-null   float64\n",
      " 4   Max_BPM                        1041 non-null   float64\n",
      " 5   Avg_BPM                        1040 non-null   float64\n",
      " 6   Resting_BPM                    1047 non-null   float64\n",
      " 7   Session_Duration (hours)       1046 non-null   float64\n",
      " 8   Calories_Burned                1036 non-null   float64\n",
      " 9   Workout_Type                   1039 non-null   object \n",
      " 10  Fat_Percentage                 1045 non-null   float64\n",
      " 11  Water_Intake (liters)          1047 non-null   float64\n",
      " 12  Workout_Frequency (days/week)  1040 non-null   float64\n",
      " 13  Experience_Level               1041 non-null   float64\n",
      " 14  BMI                            1040 non-null   float64\n",
      "dtypes: float64(13), object(2)\n",
      "memory usage: 125.9+ KB\n"
     ]
    }
   ],
   "source": [
    "df.info()"
   ]
  },
  {
   "cell_type": "markdown",
   "id": "40f0843b-47bb-4c46-9a0f-71a1a4f90f4e",
   "metadata": {},
   "source": [
    "## Data Cleaning"
   ]
  },
  {
   "cell_type": "code",
   "execution_count": 6,
   "id": "09a825c7-cdb5-4020-8d76-8dc17ecc7eb3",
   "metadata": {},
   "outputs": [
    {
     "data": {
      "text/plain": [
       "Age                              34\n",
       "Gender                           31\n",
       "Weight (kg)                      37\n",
       "Height (m)                       30\n",
       "Max_BPM                          32\n",
       "Avg_BPM                          33\n",
       "Resting_BPM                      26\n",
       "Session_Duration (hours)         27\n",
       "Calories_Burned                  37\n",
       "Workout_Type                     34\n",
       "Fat_Percentage                   28\n",
       "Water_Intake (liters)            26\n",
       "Workout_Frequency (days/week)    33\n",
       "Experience_Level                 32\n",
       "BMI                              33\n",
       "dtype: int64"
      ]
     },
     "execution_count": 6,
     "metadata": {},
     "output_type": "execute_result"
    }
   ],
   "source": [
    "nan_values_per_column = df.isna().sum()\n",
    "nan_values_per_column"
   ]
  },
  {
   "cell_type": "code",
   "execution_count": 7,
   "id": "baa02905-6a6a-4b37-8f69-411d6b4adbb7",
   "metadata": {},
   "outputs": [
    {
     "data": {
      "text/plain": [
       "473"
      ]
     },
     "execution_count": 7,
     "metadata": {},
     "output_type": "execute_result"
    }
   ],
   "source": [
    "#Total NaN Values in the DataFrame\n",
    "df.isna().sum().sum()"
   ]
  },
  {
   "cell_type": "code",
   "execution_count": 8,
   "id": "610b32e1-8c32-4c53-a905-b13f9350ac46",
   "metadata": {},
   "outputs": [
    {
     "data": {
      "text/plain": [
       "0"
      ]
     },
     "execution_count": 8,
     "metadata": {},
     "output_type": "execute_result"
    }
   ],
   "source": [
    "#Dropping rows that have 3 or more NaN Values\n",
    "df = df[df.isnull().sum(axis=1) <= 3]\n",
    "\n",
    "#Replacing NaN values in numerical columns with the mean of the column\n",
    "numeric_cols = ['Age', 'Weight (kg)', 'Height (m)', 'BMI', 'Max_BPM', 'Avg_BPM', 'Resting_BPM', 'Session_Duration (hours)', 'Calories_Burned', 'Fat_Percentage', 'Water_Intake (liters)', 'Workout_Frequency (days/week)']\n",
    "df[numeric_cols] = df[numeric_cols].fillna(df[numeric_cols].mean())\n",
    "df['Calories_Burned'] = df['Calories_Burned'].fillna(df['Calories_Burned'].mean())\n",
    "\n",
    "#Replacing NaN values in categorcial columns with the mode of the column\n",
    "df['Experience_Level']= df['Experience_Level'].astype(str)\n",
    "categorical_cols = ['Gender', 'Workout_Type', 'Experience_Level']\n",
    "df[categorical_cols] = df[categorical_cols].fillna(df[categorical_cols].mode().iloc[0])\n",
    "\n",
    "df.isna().sum().sum()"
   ]
  },
  {
   "cell_type": "code",
   "execution_count": 9,
   "id": "2d3e74b9-1ff3-431d-92e0-479f5cddc094",
   "metadata": {},
   "outputs": [
    {
     "data": {
      "image/png": "[encoded data removed]",
      "text/plain": [
       "<Figure size 800x600 with 1 Axes>"
      ]
     },
     "metadata": {},
     "output_type": "display_data"
    }
   ],
   "source": [
    "import scipy.stats as stats\n",
    "import matplotlib.pyplot as plt\n",
    "\n",
    "calories_burned = df['Calories_Burned'].dropna()\n",
    "\n",
    "plt.figure(figsize=(8, 6))\n",
    "stats.probplot(calories_burned, dist=\"norm\", plot=plt)\n",
    "plt.title(\"Normal Probability Plot for Calories Burned\")\n",
    "plt.show()"
   ]
  },
  {
   "cell_type": "markdown",
   "id": "100e7006-0dcd-406e-ad2d-4571542e6d54",
   "metadata": {},
   "source": [
    "## Outliers"
   ]
  },
  {
   "cell_type": "code",
   "execution_count": 10,
   "id": "13c9dbba-2391-4164-8aab-1efef63d4067",
   "metadata": {},
   "outputs": [
    {
     "name": "stdout",
     "output_type": "stream",
     "text": [
      "Original number of entries: 998\n",
      "Number of entries after removing outliers: 949\n"
     ]
    }
   ],
   "source": [
    "import numpy as np\n",
    "\n",
    "z_scores = np.abs(stats.zscore(calories_burned))\n",
    "\n",
    "threshold = 1.96\n",
    "\n",
    "filtered_calories = calories_burned[z_scores < threshold]\n",
    "\n",
    "print(f\"Original number of entries: {len(calories_burned)}\")\n",
    "print(f\"Number of entries after removing outliers: {len(filtered_calories)}\")\n",
    "\n",
    "df['Calories_Burned'] = df['Calories_Burned'][z_scores < threshold]\n"
   ]
  },
  {
   "cell_type": "code",
   "execution_count": 11,
   "id": "2811ca9f-97d8-4c4d-9c34-37514b6baee0",
   "metadata": {},
   "outputs": [
    {
     "data": {
      "text/plain": [
       "Age                              0\n",
       "Gender                           0\n",
       "Weight (kg)                      0\n",
       "Height (m)                       0\n",
       "Max_BPM                          0\n",
       "Avg_BPM                          0\n",
       "Resting_BPM                      0\n",
       "Session_Duration (hours)         0\n",
       "Calories_Burned                  0\n",
       "Workout_Type                     0\n",
       "Fat_Percentage                   0\n",
       "Water_Intake (liters)            0\n",
       "Workout_Frequency (days/week)    0\n",
       "Experience_Level                 0\n",
       "BMI                              0\n",
       "dtype: int64"
      ]
     },
     "execution_count": 11,
     "metadata": {},
     "output_type": "execute_result"
    }
   ],
   "source": [
    "df = df[df['Calories_Burned'].notna()]\n",
    "df.isnull().sum()"
   ]
  },
  {
   "cell_type": "markdown",
   "id": "ef8d7a05-c9c3-4647-882f-6e73d3ab1480",
   "metadata": {},
   "source": [
    "## Setting up SQLite Database"
   ]
  },
  {
   "cell_type": "code",
   "execution_count": 12,
   "id": "ec0fcd53-1ddd-4176-8692-d8c6deb25c0a",
   "metadata": {},
   "outputs": [
    {
     "name": "stdout",
     "output_type": "stream",
     "text": [
      "Defaulting to user installation because normal site-packages is not writeable\n",
      "\u001b[31mERROR: Could not find a version that satisfies the requirement sqlite3 (from versions: none)\u001b[0m\u001b[31m\n",
      "\u001b[0m\u001b[31mERROR: No matching distribution found for sqlite3\u001b[0m\u001b[31m\n",
      "\u001b[0mNote: you may need to restart the kernel to use updated packages.\n"
     ]
    }
   ],
   "source": [
    "pip install sqlite3"
   ]
  },
  {
   "cell_type": "code",
   "execution_count": 13,
   "id": "483df622-a0bd-4272-bdcf-6a1ae0cc183a",
   "metadata": {},
   "outputs": [],
   "source": [
    "import sqlite3"
   ]
  },
  {
   "cell_type": "code",
   "execution_count": 14,
   "id": "87b8e3f1-d0c5-4f62-8b49-98de2f6ce95d",
   "metadata": {},
   "outputs": [
    {
     "name": "stdout",
     "output_type": "stream",
     "text": [
      "Database and table created successfully.\n"
     ]
    }
   ],
   "source": [
    "conn = sqlite3.connect('gym_data.db')\n",
    "cursor = conn.cursor()\n",
    "\n",
    "cursor.execute(\"\"\"\n",
    "CREATE TABLE IF NOT EXISTS gym_members (\n",
    "    id INTEGER PRIMARY KEY AUTOINCREMENT,\n",
    "    age INTEGER,\n",
    "    gender TEXT,\n",
    "    weight_kg REAL,\n",
    "    height_m REAL,\n",
    "    max_bpm INTEGER,\n",
    "    avg_bpm INTEGER,\n",
    "    resting_bpm INTEGER,\n",
    "    session_duration_hours REAL,\n",
    "    calories_burned REAL,\n",
    "    workout_type TEXT,\n",
    "    fat_percentage REAL,\n",
    "    water_intake_liters REAL,\n",
    "    workout_frequency_days INTEGER,\n",
    "    experience_level INTEGER,\n",
    "    bmi REAL\n",
    ")\n",
    "\"\"\")\n",
    "conn.commit()\n",
    "print(\"Database and table created successfully.\")\n"
   ]
  },
  {
   "cell_type": "code",
   "execution_count": 15,
   "id": "71464a65-636d-420e-a040-d343ca09441a",
   "metadata": {},
   "outputs": [
    {
     "name": "stdout",
     "output_type": "stream",
     "text": [
      "Data inserted successfully.\n"
     ]
    }
   ],
   "source": [
    "data = df.copy()\n",
    "data.columns = [\n",
    "    'age', 'gender', 'weight_kg', 'height_m', 'max_bpm', 'avg_bpm', 'resting_bpm',\n",
    "    'session_duration_hours', 'calories_burned', 'workout_type', 'fat_percentage',\n",
    "    'water_intake_liters', 'workout_frequency_days', 'experience_level', 'bmi'\n",
    "]\n",
    "data.to_sql('gym_members', conn, if_exists='replace', index=False)\n",
    "print(\"Data inserted successfully.\")"
   ]
  },
  {
   "cell_type": "markdown",
   "id": "3e7d5740-ed9f-439e-956b-b636671c9efa",
   "metadata": {},
   "source": [
    "## Data Visualization"
   ]
  },
  {
   "cell_type": "code",
   "execution_count": 16,
   "id": "7a33cbde-0040-478a-94c0-6ad1b9c5fefb",
   "metadata": {},
   "outputs": [],
   "source": [
    "import seaborn as sns"
   ]
  },
  {
   "cell_type": "markdown",
   "id": "1b51532c-3b54-4daa-bec1-4d4f11a0eaab",
   "metadata": {},
   "source": [
    "### Query"
   ]
  },
  {
   "cell_type": "code",
   "execution_count": 17,
   "id": "0cdbea53-1ffe-475c-bd7d-2d447df0ca36",
   "metadata": {},
   "outputs": [],
   "source": [
    "query = \"SELECT calories_burned FROM gym_members\"\n",
    "dq = pd.read_sql_query(query, conn)"
   ]
  },
  {
   "cell_type": "markdown",
   "id": "38883507-49bf-4d3f-9e6c-0055af9e44b2",
   "metadata": {},
   "source": [
    "### Histogram for the Distribution of Calories Burned"
   ]
  },
  {
   "cell_type": "code",
   "execution_count": 18,
   "id": "cbe4cfe5-1a22-41de-bf5d-671c762a42e6",
   "metadata": {},
   "outputs": [
    {
     "data": {
      "image/png": "[encoded data removed]",
      "text/plain": [
       "<Figure size 800x600 with 1 Axes>"
      ]
     },
     "metadata": {},
     "output_type": "display_data"
    }
   ],
   "source": [
    "plt.figure(figsize=(8, 6))\n",
    "sns.histplot(dq['calories_burned'], kde=True, bins=30)\n",
    "plt.title('Distribution of Calories Burned')\n",
    "plt.xlabel('Calories Burned')\n",
    "plt.ylabel('Frequency')\n",
    "plt.show()"
   ]
  },
  {
   "cell_type": "markdown",
   "id": "5763cdb2-eeef-4e8a-8f99-57899d1f0d93",
   "metadata": {},
   "source": [
    "### Query"
   ]
  },
  {
   "cell_type": "code",
   "execution_count": 19,
   "id": "280931f4-3b0d-4719-87d8-8134341be5ea",
   "metadata": {},
   "outputs": [],
   "source": [
    "query = \"SELECT age FROM gym_members\"\n",
    "dq = pd.read_sql_query(query, conn)"
   ]
  },
  {
   "cell_type": "markdown",
   "id": "04245c8d-e661-49b4-ae09-ebff72be3e65",
   "metadata": {},
   "source": [
    "### Distribution of Ages"
   ]
  },
  {
   "cell_type": "code",
   "execution_count": 20,
   "id": "58c1e7b6-37e0-4ecb-862f-a61a0ba653b6",
   "metadata": {},
   "outputs": [
    {
     "data": {
      "image/png": "[encoded data removed]",
      "text/plain": [
       "<Figure size 640x480 with 1 Axes>"
      ]
     },
     "metadata": {},
     "output_type": "display_data"
    }
   ],
   "source": [
    "sns.boxplot(y='age', data=dq)\n",
    "plt.title('Distribution of Ages')\n",
    "plt.ylabel('Age')\n",
    "plt.show()"
   ]
  },
  {
   "cell_type": "markdown",
   "id": "29b6b932-436c-4ae1-b434-f8bcd7a378f7",
   "metadata": {},
   "source": [
    "### Query"
   ]
  },
  {
   "cell_type": "code",
   "execution_count": 21,
   "id": "03bb8c6a-dbdd-4a2a-aed3-52d3ecc4e6d9",
   "metadata": {},
   "outputs": [],
   "source": [
    "query = \"SELECT height_m FROM gym_members\"\n",
    "dq = pd.read_sql_query(query, conn)"
   ]
  },
  {
   "cell_type": "markdown",
   "id": "687879d4-11cc-4c0a-89f5-39e8a61c32b2",
   "metadata": {},
   "source": [
    "### Distribution of Heights"
   ]
  },
  {
   "cell_type": "code",
   "execution_count": 22,
   "id": "5725ae37-b8c6-4bf2-99b9-7d49b656bb76",
   "metadata": {},
   "outputs": [
    {
     "data": {
      "image/png": "[encoded data removed]",
      "text/plain": [
       "<Figure size 640x480 with 1 Axes>"
      ]
     },
     "metadata": {},
     "output_type": "display_data"
    }
   ],
   "source": [
    "sns.boxplot(y='height_m', data=dq)\n",
    "plt.title('Distribution of Heights')\n",
    "plt.ylabel('Height (m)')\n",
    "plt.show()"
   ]
  },
  {
   "cell_type": "markdown",
   "id": "afa629e1-a0bd-47fe-95ff-422a4b50f951",
   "metadata": {},
   "source": [
    "### Query"
   ]
  },
  {
   "cell_type": "code",
   "execution_count": 23,
   "id": "9c54d259-4789-4e3c-8690-8385ae9bb51b",
   "metadata": {},
   "outputs": [],
   "source": [
    "query = \"SELECT weight_kg FROM gym_members\"\n",
    "dq = pd.read_sql_query(query, conn)"
   ]
  },
  {
   "cell_type": "markdown",
   "id": "e0899fd7-85b7-46ae-8255-559afc8bf574",
   "metadata": {},
   "source": [
    "### Distribution of Weights"
   ]
  },
  {
   "cell_type": "code",
   "execution_count": 24,
   "id": "f764c2fc-4e10-4b54-bca8-8604166786e6",
   "metadata": {},
   "outputs": [
    {
     "data": {
      "image/png": "[encoded data removed]",
      "text/plain": [
       "<Figure size 640x480 with 1 Axes>"
      ]
     },
     "metadata": {},
     "output_type": "display_data"
    }
   ],
   "source": [
    "sns.boxplot(y='weight_kg', data=dq)\n",
    "plt.title('Distribution of Weights')\n",
    "plt.ylabel('Weight (kg)')\n",
    "plt.show()"
   ]
  },
  {
   "cell_type": "markdown",
   "id": "e4c59dd3-a3af-4b57-9fb2-cfb02b69262e",
   "metadata": {},
   "source": [
    "### Query"
   ]
  },
  {
   "cell_type": "code",
   "execution_count": 25,
   "id": "de55b79e-eb47-4593-bb72-0dbe030aa8b6",
   "metadata": {},
   "outputs": [],
   "source": [
    "query = \"\"\"\n",
    "SELECT gender, COUNT(*) AS count\n",
    "FROM gym_members\n",
    "GROUP BY gender\n",
    "\"\"\"\n",
    "dq = pd.read_sql_query(query, conn)"
   ]
  },
  {
   "cell_type": "markdown",
   "id": "25167478-dc8f-4f7a-a964-e4e0e91a4dd2",
   "metadata": {},
   "source": [
    "### Distribution of Gender"
   ]
  },
  {
   "cell_type": "code",
   "execution_count": 26,
   "id": "7574fcba-b253-450b-8ba9-761ed9c490a5",
   "metadata": {},
   "outputs": [
    {
     "data": {
      "image/png": "[encoded data removed]",
      "text/plain": [
       "<Figure size 600x600 with 1 Axes>"
      ]
     },
     "metadata": {},
     "output_type": "display_data"
    }
   ],
   "source": [
    "plt.figure(figsize=(6, 6))\n",
    "plt.pie(dq['count'], labels=dq['gender'], autopct='%1.1f%%', startangle=90)\n",
    "plt.title('Gender Distribution')\n",
    "plt.show()"
   ]
  },
  {
   "cell_type": "markdown",
   "id": "179301fa-bac9-42b0-b7c0-a270ab4c4268",
   "metadata": {},
   "source": [
    "### Query"
   ]
  },
  {
   "cell_type": "code",
   "execution_count": 27,
   "id": "b7853b06-52cc-44ac-b3aa-642e5e73e39b",
   "metadata": {},
   "outputs": [],
   "source": [
    "query = \"SELECT session_duration_hours, calories_burned FROM gym_members\"\n",
    "dq = pd.read_sql_query(query, conn)"
   ]
  },
  {
   "cell_type": "markdown",
   "id": "003b4796-3089-4d37-835d-47449a063235",
   "metadata": {},
   "source": [
    "### Session Duration vs. Calories Burned Scatterplot"
   ]
  },
  {
   "cell_type": "code",
   "execution_count": null,
   "id": "4bb4c635-b1b4-4fd2-bc84-1f577ac89480",
   "metadata": {},
   "outputs": [],
   "source": [
    "plt.figure(figsize=(8, 6))\n",
    "sns.scatterplot(x='session_duration_hours', y='calories_burned', data=dq)\n",
    "plt.title('Session Duration vs. Calories Burned')\n",
    "plt.xlabel('Session Duration (hours)')\n",
    "plt.ylabel('Calories Burned')\n",
    "plt.show()"
   ]
  },
  {
   "cell_type": "markdown",
   "id": "4358a257-50eb-4187-95f5-723ee68eb79a",
   "metadata": {},
   "source": [
    "### Query"
   ]
  },
  {
   "cell_type": "code",
   "execution_count": 29,
   "id": "6301af6c-19ac-458c-bbd6-313b00323fb4",
   "metadata": {},
   "outputs": [],
   "source": [
    "query = \"\"\"\n",
    "SELECT workout_type, AVG(calories_burned) AS avg_calories\n",
    "FROM gym_members\n",
    "GROUP BY workout_type\n",
    "\"\"\"\n",
    "dq = pd.read_sql_query(query, conn)"
   ]
  },
  {
   "cell_type": "markdown",
   "id": "e348f46e-99c4-402d-bfa5-e4d8603f937b",
   "metadata": {},
   "source": [
    "### Workout Types vs. Calories Burned Barplot"
   ]
  },
  {
   "cell_type": "code",
   "execution_count": 30,
   "id": "7526f4fc-9917-4a6e-bfc0-8194e279b38c",
   "metadata": {},
   "outputs": [
    {
     "data": {
      "image/png": "[encoded data removed]",
      "text/plain": [
       "<Figure size 640x480 with 1 Axes>"
      ]
     },
     "metadata": {},
     "output_type": "display_data"
    }
   ],
   "source": [
    "sns.barplot(x='workout_type', y='avg_calories', data=dq)\n",
    "plt.title('Workout Types vs. Average Calories Burned')\n",
    "plt.xlabel('Workout Type')\n",
    "plt.ylabel('Average Calories Burned')\n",
    "plt.xticks(rotation=45)\n",
    "plt.show()"
   ]
  },
  {
   "cell_type": "markdown",
   "id": "c55b72f3-e9a1-4bff-8a21-a40cdec795b0",
   "metadata": {},
   "source": [
    "### Query"
   ]
  },
  {
   "cell_type": "code",
   "execution_count": 31,
   "id": "02bdf30b-94a5-4765-bfc4-e98966ada881",
   "metadata": {},
   "outputs": [],
   "source": [
    "query = \"SELECT age, calories_burned FROM gym_members\"\n",
    "dq = pd.read_sql_query(query, conn)"
   ]
  },
  {
   "cell_type": "markdown",
   "id": "01953e00-82a9-4985-8691-8cc63c4f950c",
   "metadata": {},
   "source": [
    "### Age vs. Calories Burned Scatterplot"
   ]
  },
  {
   "cell_type": "code",
   "execution_count": 32,
   "id": "c3608177-f319-4e9d-b59f-4505db6e80ae",
   "metadata": {},
   "outputs": [
    {
     "data": {
      "image/png": "[encoded data removed]",
      "text/plain": [
       "<Figure size 640x480 with 1 Axes>"
      ]
     },
     "metadata": {},
     "output_type": "display_data"
    }
   ],
   "source": [
    "sns.scatterplot(x='age', y='calories_burned', data=dq)\n",
    "plt.title('Age vs. Calories Burned')\n",
    "plt.xlabel('Age')\n",
    "plt.ylabel('Calories Burned')\n",
    "plt.show()"
   ]
  },
  {
   "cell_type": "markdown",
   "id": "1a3b6598-81e1-483e-843f-f069eec9ef36",
   "metadata": {},
   "source": [
    "### Query"
   ]
  },
  {
   "cell_type": "code",
   "execution_count": 33,
   "id": "cf10a372-eac6-40f0-ae5e-0712ea92f236",
   "metadata": {},
   "outputs": [],
   "source": [
    "query = \"\"\"\n",
    "SELECT experience_level, AVG(calories_burned) AS avg_calories\n",
    "FROM gym_members\n",
    "GROUP BY experience_level\n",
    "\"\"\"\n",
    "dq = pd.read_sql_query(query, conn)\n",
    "dq['experience_level'] = dq['experience_level'].replace('nan', np.nan)\n",
    "dq=dq.dropna(subset=['experience_level'])"
   ]
  },
  {
   "cell_type": "markdown",
   "id": "aafca5cf-750c-446f-b2d4-10b5cd74eede",
   "metadata": {},
   "source": [
    "### Experience Level vs. Calories Burned"
   ]
  },
  {
   "cell_type": "code",
   "execution_count": 34,
   "id": "908f1abe-0522-4962-bf01-295b531ae709",
   "metadata": {},
   "outputs": [
    {
     "data": {
      "image/png": "[encoded data removed]",
      "text/plain": [
       "<Figure size 640x480 with 1 Axes>"
      ]
     },
     "metadata": {},
     "output_type": "display_data"
    }
   ],
   "source": [
    "sns.barplot(x='experience_level', y='avg_calories', data=dq)\n",
    "plt.title('Experience Level vs. Average Calories Burned')\n",
    "plt.xlabel('Experience Level')\n",
    "plt.ylabel('Average Calories Burned')\n",
    "plt.show()"
   ]
  },
  {
   "cell_type": "markdown",
   "id": "aff2200d-3bf3-4793-99a7-01147b26cd3c",
   "metadata": {},
   "source": [
    "### Query"
   ]
  },
  {
   "cell_type": "code",
   "execution_count": 35,
   "id": "5e8d5d07-6a4a-4b6e-96c0-82a49ba2cc3c",
   "metadata": {},
   "outputs": [],
   "source": [
    "query = \"\"\"\n",
    "SELECT workout_type, AVG(avg_bpm) AS avg_bpm, AVG(max_bpm) AS max_bpm, AVG(resting_bpm) AS resting_bpm\n",
    "FROM gym_members\n",
    "GROUP BY workout_type\n",
    "\"\"\"\n",
    "dq = pd.read_sql_query(query, conn)"
   ]
  },
  {
   "cell_type": "markdown",
   "id": "4c8d974b-e165-4e2b-bd3c-8806ae21d2c3",
   "metadata": {},
   "source": [
    "### Average BPM, Max BPM, Resting BPM by Workout Type"
   ]
  },
  {
   "cell_type": "code",
   "execution_count": 36,
   "id": "0238a313-d7b4-432b-81d8-ec137cb0db99",
   "metadata": {},
   "outputs": [
    {
     "data": {
      "image/png": "[encoded data removed]",
      "text/plain": [
       "<Figure size 640x480 with 1 Axes>"
      ]
     },
     "metadata": {},
     "output_type": "display_data"
    }
   ],
   "source": [
    "dq_melt = dq.melt(id_vars='workout_type', var_name='BPM Type', value_name='BPM')\n",
    "sns.barplot(x='workout_type', y='BPM', hue='BPM Type', data=dq_melt)\n",
    "plt.title('BPM by Workout Type')\n",
    "plt.xlabel('Workout Type')\n",
    "plt.ylabel('BPM')\n",
    "plt.xticks(rotation=45)\n",
    "plt.show()"
   ]
  },
  {
   "cell_type": "markdown",
   "id": "19a00d0d-aefd-4dad-8add-08e5653d020f",
   "metadata": {},
   "source": [
    "### Query"
   ]
  },
  {
   "cell_type": "code",
   "execution_count": 37,
   "id": "d97871e0-edaa-491c-9256-6e31bc262c43",
   "metadata": {},
   "outputs": [],
   "source": [
    "query = \"SELECT max_bpm, avg_bpm, resting_bpm, calories_burned FROM gym_members\"\n",
    "dq = pd.read_sql_query(query, conn)"
   ]
  },
  {
   "cell_type": "markdown",
   "id": "133d5460-6d55-4443-a4bb-fb9a51056214",
   "metadata": {},
   "source": [
    "### BPM (Max, Average, Resting) vs. Calories Burned"
   ]
  },
  {
   "cell_type": "code",
   "execution_count": null,
   "id": "483292a7-18a6-4500-b42d-6d4c7103e29a",
   "metadata": {},
   "outputs": [],
   "source": [
    "sns.pairplot(dq, x_vars=['max_bpm', 'avg_bpm', 'resting_bpm'], y_vars='calories_burned')\n",
    "plt.suptitle('BPM Effects on Calories Burned', y=1.02)\n",
    "plt.show()"
   ]
  },
  {
   "cell_type": "markdown",
   "id": "bd6901dd-12ad-4ea8-ad82-94da2d6b09b1",
   "metadata": {},
   "source": [
    "### Query"
   ]
  },
  {
   "cell_type": "code",
   "execution_count": 39,
   "id": "d5331144-73fd-47f1-bf07-cdbc175a80d5",
   "metadata": {},
   "outputs": [],
   "source": [
    "query = \"SELECT weight_kg, calories_burned FROM gym_members\"\n",
    "dq = pd.read_sql_query(query, conn)"
   ]
  },
  {
   "cell_type": "markdown",
   "id": "7695439f-f7fa-465c-a6e0-ce0a7ad36ea6",
   "metadata": {},
   "source": [
    "### Weight vs. Calories Burned"
   ]
  },
  {
   "cell_type": "code",
   "execution_count": null,
   "id": "0ffdfa14-9760-42c1-9d1e-f1dad21205a5",
   "metadata": {},
   "outputs": [],
   "source": [
    "sns.scatterplot(x='weight_kg', y='calories_burned', data=dq)\n",
    "plt.title('Weight vs. Calories Burned')\n",
    "plt.xlabel('Weight (kg)')\n",
    "plt.ylabel('Calories Burned')\n",
    "plt.show()"
   ]
  },
  {
   "cell_type": "markdown",
   "id": "fe93145d-06fa-45b1-91d6-4ef450fea546",
   "metadata": {},
   "source": [
    "## One Hot Encoding"
   ]
  },
  {
   "cell_type": "code",
   "execution_count": 41,
   "id": "9bde1275-4c56-4612-8490-a4a104b3e14b",
   "metadata": {},
   "outputs": [
    {
     "name": "stdout",
     "output_type": "stream",
     "text": [
      "      Age  Weight (kg)  Height (m)  Max_BPM  Avg_BPM  Resting_BPM  \\\n",
      "0    56.0         88.3        1.71    180.0    157.0         60.0   \n",
      "1    46.0         74.9        1.53    179.0    151.0         66.0   \n",
      "2    32.0         68.1        1.66    167.0    122.0         54.0   \n",
      "3    25.0         53.2        1.70    190.0    164.0         56.0   \n",
      "4    38.0         46.1        1.79    188.0    158.0         68.0   \n",
      "..    ...          ...         ...      ...      ...          ...   \n",
      "848   NaN          NaN         NaN      NaN      NaN          NaN   \n",
      "896   NaN          NaN         NaN      NaN      NaN          NaN   \n",
      "897   NaN          NaN         NaN      NaN      NaN          NaN   \n",
      "910   NaN          NaN         NaN      NaN      NaN          NaN   \n",
      "930   NaN          NaN         NaN      NaN      NaN          NaN   \n",
      "\n",
      "     Session_Duration (hours)  Calories_Burned  Fat_Percentage  \\\n",
      "0                        1.69           1313.0            12.6   \n",
      "1                        1.30            883.0            33.9   \n",
      "2                        1.11            677.0            33.4   \n",
      "3                        0.59            532.0            28.8   \n",
      "4                        0.64            556.0            29.2   \n",
      "..                        ...              ...             ...   \n",
      "848                       NaN              NaN             NaN   \n",
      "896                       NaN              NaN             NaN   \n",
      "897                       NaN              NaN             NaN   \n",
      "910                       NaN              NaN             NaN   \n",
      "930                       NaN              NaN             NaN   \n",
      "\n",
      "     Water_Intake (liters)  ...  Gender_Female  Gender_Male  \\\n",
      "0                      3.5  ...            0.0          1.0   \n",
      "1                      2.1  ...            1.0          0.0   \n",
      "2                      2.3  ...            1.0          0.0   \n",
      "3                      2.1  ...            0.0          1.0   \n",
      "4                      2.8  ...            0.0          1.0   \n",
      "..                     ...  ...            ...          ...   \n",
      "848                    NaN  ...            0.0          1.0   \n",
      "896                    NaN  ...            0.0          1.0   \n",
      "897                    NaN  ...            0.0          1.0   \n",
      "910                    NaN  ...            1.0          0.0   \n",
      "930                    NaN  ...            0.0          1.0   \n",
      "\n",
      "     Workout_Type_Cardio  Workout_Type_HIIT  Workout_Type_Strength  \\\n",
      "0                    0.0                0.0                    0.0   \n",
      "1                    0.0                1.0                    0.0   \n",
      "2                    1.0                0.0                    0.0   \n",
      "3                    0.0                0.0                    1.0   \n",
      "4                    0.0                0.0                    1.0   \n",
      "..                   ...                ...                    ...   \n",
      "848                  0.0                1.0                    0.0   \n",
      "896                  0.0                0.0                    0.0   \n",
      "897                  0.0                1.0                    0.0   \n",
      "910                  0.0                1.0                    0.0   \n",
      "930                  0.0                0.0                    1.0   \n",
      "\n",
      "     Workout_Type_Yoga  Experience_Level_1.0  Experience_Level_2.0  \\\n",
      "0                  1.0                   0.0                   0.0   \n",
      "1                  0.0                   0.0                   1.0   \n",
      "2                  0.0                   0.0                   1.0   \n",
      "3                  0.0                   1.0                   0.0   \n",
      "4                  0.0                   1.0                   0.0   \n",
      "..                 ...                   ...                   ...   \n",
      "848                0.0                   0.0                   1.0   \n",
      "896                1.0                   0.0                   1.0   \n",
      "897                0.0                   0.0                   0.0   \n",
      "910                0.0                   1.0                   0.0   \n",
      "930                0.0                   0.0                   0.0   \n",
      "\n",
      "     Experience_Level_3.0  Experience_Level_nan  \n",
      "0                     1.0                   0.0  \n",
      "1                     0.0                   0.0  \n",
      "2                     0.0                   0.0  \n",
      "3                     0.0                   0.0  \n",
      "4                     0.0                   0.0  \n",
      "..                    ...                   ...  \n",
      "848                   0.0                   0.0  \n",
      "896                   0.0                   0.0  \n",
      "897                   1.0                   0.0  \n",
      "910                   0.0                   0.0  \n",
      "930                   0.0                   1.0  \n",
      "\n",
      "[994 rows x 22 columns]\n"
     ]
    }
   ],
   "source": [
    "from sklearn.preprocessing import OneHotEncoder\n",
    "categorical_cols = ['Gender', 'Workout_Type', 'Experience_Level']\n",
    "encoder = OneHotEncoder(sparse_output=False)\n",
    "one_hot_encoded_data = encoder.fit_transform(df[categorical_cols])\n",
    "df_encoded = pd.DataFrame(one_hot_encoded_data, columns=encoder.get_feature_names_out(categorical_cols))\n",
    "final_df = pd.concat([df.drop(columns=categorical_cols), df_encoded], axis=1)\n",
    "print(final_df)"
   ]
  },
  {
   "cell_type": "markdown",
   "id": "cc3e3b48-56ac-4e2f-bf0e-800da8bf2a5f",
   "metadata": {},
   "source": [
    "## Linear Regression Model"
   ]
  },
  {
   "cell_type": "code",
   "execution_count": 42,
   "id": "57e8338c-e425-4f45-9e5b-ac18f53e659b",
   "metadata": {},
   "outputs": [
    {
     "data": {
      "text/html": [
       "<style>#sk-container-id-1 {\n",
       "  /* Definition of color scheme common for light and dark mode */\n",
       "  --sklearn-color-text: black;\n",
       "  --sklearn-color-line: gray;\n",
       "  /* Definition of color scheme for unfitted estimators */\n",
       "  --sklearn-color-unfitted-level-0: #fff5e6;\n",
       "  --sklearn-color-unfitted-level-1: #f6e4d2;\n",
       "  --sklearn-color-unfitted-level-2: #ffe0b3;\n",
       "  --sklearn-color-unfitted-level-3: chocolate;\n",
       "  /* Definition of color scheme for fitted estimators */\n",
       "  --sklearn-color-fitted-level-0: #f0f8ff;\n",
       "  --sklearn-color-fitted-level-1: #d4ebff;\n",
       "  --sklearn-color-fitted-level-2: #b3dbfd;\n",
       "  --sklearn-color-fitted-level-3: cornflowerblue;\n",
       "\n",
       "  /* Specific color for light theme */\n",
       "  --sklearn-color-text-on-default-background: var(--sg-text-color, var(--theme-code-foreground, var(--jp-content-font-color1, black)));\n",
       "  --sklearn-color-background: var(--sg-background-color, var(--theme-background, var(--jp-layout-color0, white)));\n",
       "  --sklearn-color-border-box: var(--sg-text-color, var(--theme-code-foreground, var(--jp-content-font-color1, black)));\n",
       "  --sklearn-color-icon: #696969;\n",
       "\n",
       "  @media (prefers-color-scheme: dark) {\n",
       "    /* Redefinition of color scheme for dark theme */\n",
       "    --sklearn-color-text-on-default-background: var(--sg-text-color, var(--theme-code-foreground, var(--jp-content-font-color1, white)));\n",
       "    --sklearn-color-background: var(--sg-background-color, var(--theme-background, var(--jp-layout-color0, #111)));\n",
       "    --sklearn-color-border-box: var(--sg-text-color, var(--theme-code-foreground, var(--jp-content-font-color1, white)));\n",
       "    --sklearn-color-icon: #878787;\n",
       "  }\n",
       "}\n",
       "\n",
       "#sk-container-id-1 {\n",
       "  color: var(--sklearn-color-text);\n",
       "}\n",
       "\n",
       "#sk-container-id-1 pre {\n",
       "  padding: 0;\n",
       "}\n",
       "\n",
       "#sk-container-id-1 input.sk-hidden--visually {\n",
       "  border: 0;\n",
       "  clip: rect(1px 1px 1px 1px);\n",
       "  clip: rect(1px, 1px, 1px, 1px);\n",
       "  height: 1px;\n",
       "  margin: -1px;\n",
       "  overflow: hidden;\n",
       "  padding: 0;\n",
       "  position: absolute;\n",
       "  width: 1px;\n",
       "}\n",
       "\n",
       "#sk-container-id-1 div.sk-dashed-wrapped {\n",
       "  border: 1px dashed var(--sklearn-color-line);\n",
       "  margin: 0 0.4em 0.5em 0.4em;\n",
       "  box-sizing: border-box;\n",
       "  padding-bottom: 0.4em;\n",
       "  background-color: var(--sklearn-color-background);\n",
       "}\n",
       "\n",
       "#sk-container-id-1 div.sk-container {\n",
       "  /* jupyter's `normalize.less` sets `[hidden] { display: none; }`\n",
       "     but bootstrap.min.css set `[hidden] { display: none !important; }`\n",
       "     so we also need the `!important` here to be able to override the\n",
       "     default hidden behavior on the sphinx rendered scikit-learn.org.\n",
       "     See: https://github.com/scikit-learn/scikit-learn/issues/21755 */\n",
       "  display: inline-block !important;\n",
       "  position: relative;\n",
       "}\n",
       "\n",
       "#sk-container-id-1 div.sk-text-repr-fallback {\n",
       "  display: none;\n",
       "}\n",
       "\n",
       "div.sk-parallel-item,\n",
       "div.sk-serial,\n",
       "div.sk-item {\n",
       "  /* draw centered vertical line to link estimators */\n",
       "  background-image: linear-gradient(var(--sklearn-color-text-on-default-background), var(--sklearn-color-text-on-default-background));\n",
       "  background-size: 2px 100%;\n",
       "  background-repeat: no-repeat;\n",
       "  background-position: center center;\n",
       "}\n",
       "\n",
       "/* Parallel-specific style estimator block */\n",
       "\n",
       "#sk-container-id-1 div.sk-parallel-item::after {\n",
       "  content: \"\";\n",
       "  width: 100%;\n",
       "  border-bottom: 2px solid var(--sklearn-color-text-on-default-background);\n",
       "  flex-grow: 1;\n",
       "}\n",
       "\n",
       "#sk-container-id-1 div.sk-parallel {\n",
       "  display: flex;\n",
       "  align-items: stretch;\n",
       "  justify-content: center;\n",
       "  background-color: var(--sklearn-color-background);\n",
       "  position: relative;\n",
       "}\n",
       "\n",
       "#sk-container-id-1 div.sk-parallel-item {\n",
       "  display: flex;\n",
       "  flex-direction: column;\n",
       "}\n",
       "\n",
       "#sk-container-id-1 div.sk-parallel-item:first-child::after {\n",
       "  align-self: flex-end;\n",
       "  width: 50%;\n",
       "}\n",
       "\n",
       "#sk-container-id-1 div.sk-parallel-item:last-child::after {\n",
       "  align-self: flex-start;\n",
       "  width: 50%;\n",
       "}\n",
       "\n",
       "#sk-container-id-1 div.sk-parallel-item:only-child::after {\n",
       "  width: 0;\n",
       "}\n",
       "\n",
       "/* Serial-specific style estimator block */\n",
       "\n",
       "#sk-container-id-1 div.sk-serial {\n",
       "  display: flex;\n",
       "  flex-direction: column;\n",
       "  align-items: center;\n",
       "  background-color: var(--sklearn-color-background);\n",
       "  padding-right: 1em;\n",
       "  padding-left: 1em;\n",
       "}\n",
       "\n",
       "\n",
       "/* Toggleable style: style used for estimator/Pipeline/ColumnTransformer box that is\n",
       "clickable and can be expanded/collapsed.\n",
       "- Pipeline and ColumnTransformer use this feature and define the default style\n",
       "- Estimators will overwrite some part of the style using the `sk-estimator` class\n",
       "*/\n",
       "\n",
       "/* Pipeline and ColumnTransformer style (default) */\n",
       "\n",
       "#sk-container-id-1 div.sk-toggleable {\n",
       "  /* Default theme specific background. It is overwritten whether we have a\n",
       "  specific estimator or a Pipeline/ColumnTransformer */\n",
       "  background-color: var(--sklearn-color-background);\n",
       "}\n",
       "\n",
       "/* Toggleable label */\n",
       "#sk-container-id-1 label.sk-toggleable__label {\n",
       "  cursor: pointer;\n",
       "  display: block;\n",
       "  width: 100%;\n",
       "  margin-bottom: 0;\n",
       "  padding: 0.5em;\n",
       "  box-sizing: border-box;\n",
       "  text-align: center;\n",
       "}\n",
       "\n",
       "#sk-container-id-1 label.sk-toggleable__label-arrow:before {\n",
       "  /* Arrow on the left of the label */\n",
       "  content: \"▸\";\n",
       "  float: left;\n",
       "  margin-right: 0.25em;\n",
       "  color: var(--sklearn-color-icon);\n",
       "}\n",
       "\n",
       "#sk-container-id-1 label.sk-toggleable__label-arrow:hover:before {\n",
       "  color: var(--sklearn-color-text);\n",
       "}\n",
       "\n",
       "/* Toggleable content - dropdown */\n",
       "\n",
       "#sk-container-id-1 div.sk-toggleable__content {\n",
       "  max-height: 0;\n",
       "  max-width: 0;\n",
       "  overflow: hidden;\n",
       "  text-align: left;\n",
       "  /* unfitted */\n",
       "  background-color: var(--sklearn-color-unfitted-level-0);\n",
       "}\n",
       "\n",
       "#sk-container-id-1 div.sk-toggleable__content.fitted {\n",
       "  /* fitted */\n",
       "  background-color: var(--sklearn-color-fitted-level-0);\n",
       "}\n",
       "\n",
       "#sk-container-id-1 div.sk-toggleable__content pre {\n",
       "  margin: 0.2em;\n",
       "  border-radius: 0.25em;\n",
       "  color: var(--sklearn-color-text);\n",
       "  /* unfitted */\n",
       "  background-color: var(--sklearn-color-unfitted-level-0);\n",
       "}\n",
       "\n",
       "#sk-container-id-1 div.sk-toggleable__content.fitted pre {\n",
       "  /* unfitted */\n",
       "  background-color: var(--sklearn-color-fitted-level-0);\n",
       "}\n",
       "\n",
       "#sk-container-id-1 input.sk-toggleable__control:checked~div.sk-toggleable__content {\n",
       "  /* Expand drop-down */\n",
       "  max-height: 200px;\n",
       "  max-width: 100%;\n",
       "  overflow: auto;\n",
       "}\n",
       "\n",
       "#sk-container-id-1 input.sk-toggleable__control:checked~label.sk-toggleable__label-arrow:before {\n",
       "  content: \"▾\";\n",
       "}\n",
       "\n",
       "/* Pipeline/ColumnTransformer-specific style */\n",
       "\n",
       "#sk-container-id-1 div.sk-label input.sk-toggleable__control:checked~label.sk-toggleable__label {\n",
       "  color: var(--sklearn-color-text);\n",
       "  background-color: var(--sklearn-color-unfitted-level-2);\n",
       "}\n",
       "\n",
       "#sk-container-id-1 div.sk-label.fitted input.sk-toggleable__control:checked~label.sk-toggleable__label {\n",
       "  background-color: var(--sklearn-color-fitted-level-2);\n",
       "}\n",
       "\n",
       "/* Estimator-specific style */\n",
       "\n",
       "/* Colorize estimator box */\n",
       "#sk-container-id-1 div.sk-estimator input.sk-toggleable__control:checked~label.sk-toggleable__label {\n",
       "  /* unfitted */\n",
       "  background-color: var(--sklearn-color-unfitted-level-2);\n",
       "}\n",
       "\n",
       "#sk-container-id-1 div.sk-estimator.fitted input.sk-toggleable__control:checked~label.sk-toggleable__label {\n",
       "  /* fitted */\n",
       "  background-color: var(--sklearn-color-fitted-level-2);\n",
       "}\n",
       "\n",
       "#sk-container-id-1 div.sk-label label.sk-toggleable__label,\n",
       "#sk-container-id-1 div.sk-label label {\n",
       "  /* The background is the default theme color */\n",
       "  color: var(--sklearn-color-text-on-default-background);\n",
       "}\n",
       "\n",
       "/* On hover, darken the color of the background */\n",
       "#sk-container-id-1 div.sk-label:hover label.sk-toggleable__label {\n",
       "  color: var(--sklearn-color-text);\n",
       "  background-color: var(--sklearn-color-unfitted-level-2);\n",
       "}\n",
       "\n",
       "/* Label box, darken color on hover, fitted */\n",
       "#sk-container-id-1 div.sk-label.fitted:hover label.sk-toggleable__label.fitted {\n",
       "  color: var(--sklearn-color-text);\n",
       "  background-color: var(--sklearn-color-fitted-level-2);\n",
       "}\n",
       "\n",
       "/* Estimator label */\n",
       "\n",
       "#sk-container-id-1 div.sk-label label {\n",
       "  font-family: monospace;\n",
       "  font-weight: bold;\n",
       "  display: inline-block;\n",
       "  line-height: 1.2em;\n",
       "}\n",
       "\n",
       "#sk-container-id-1 div.sk-label-container {\n",
       "  text-align: center;\n",
       "}\n",
       "\n",
       "/* Estimator-specific */\n",
       "#sk-container-id-1 div.sk-estimator {\n",
       "  font-family: monospace;\n",
       "  border: 1px dotted var(--sklearn-color-border-box);\n",
       "  border-radius: 0.25em;\n",
       "  box-sizing: border-box;\n",
       "  margin-bottom: 0.5em;\n",
       "  /* unfitted */\n",
       "  background-color: var(--sklearn-color-unfitted-level-0);\n",
       "}\n",
       "\n",
       "#sk-container-id-1 div.sk-estimator.fitted {\n",
       "  /* fitted */\n",
       "  background-color: var(--sklearn-color-fitted-level-0);\n",
       "}\n",
       "\n",
       "/* on hover */\n",
       "#sk-container-id-1 div.sk-estimator:hover {\n",
       "  /* unfitted */\n",
       "  background-color: var(--sklearn-color-unfitted-level-2);\n",
       "}\n",
       "\n",
       "#sk-container-id-1 div.sk-estimator.fitted:hover {\n",
       "  /* fitted */\n",
       "  background-color: var(--sklearn-color-fitted-level-2);\n",
       "}\n",
       "\n",
       "/* Specification for estimator info (e.g. \"i\" and \"?\") */\n",
       "\n",
       "/* Common style for \"i\" and \"?\" */\n",
       "\n",
       ".sk-estimator-doc-link,\n",
       "a:link.sk-estimator-doc-link,\n",
       "a:visited.sk-estimator-doc-link {\n",
       "  float: right;\n",
       "  font-size: smaller;\n",
       "  line-height: 1em;\n",
       "  font-family: monospace;\n",
       "  background-color: var(--sklearn-color-background);\n",
       "  border-radius: 1em;\n",
       "  height: 1em;\n",
       "  width: 1em;\n",
       "  text-decoration: none !important;\n",
       "  margin-left: 1ex;\n",
       "  /* unfitted */\n",
       "  border: var(--sklearn-color-unfitted-level-1) 1pt solid;\n",
       "  color: var(--sklearn-color-unfitted-level-1);\n",
       "}\n",
       "\n",
       ".sk-estimator-doc-link.fitted,\n",
       "a:link.sk-estimator-doc-link.fitted,\n",
       "a:visited.sk-estimator-doc-link.fitted {\n",
       "  /* fitted */\n",
       "  border: var(--sklearn-color-fitted-level-1) 1pt solid;\n",
       "  color: var(--sklearn-color-fitted-level-1);\n",
       "}\n",
       "\n",
       "/* On hover */\n",
       "div.sk-estimator:hover .sk-estimator-doc-link:hover,\n",
       ".sk-estimator-doc-link:hover,\n",
       "div.sk-label-container:hover .sk-estimator-doc-link:hover,\n",
       ".sk-estimator-doc-link:hover {\n",
       "  /* unfitted */\n",
       "  background-color: var(--sklearn-color-unfitted-level-3);\n",
       "  color: var(--sklearn-color-background);\n",
       "  text-decoration: none;\n",
       "}\n",
       "\n",
       "div.sk-estimator.fitted:hover .sk-estimator-doc-link.fitted:hover,\n",
       ".sk-estimator-doc-link.fitted:hover,\n",
       "div.sk-label-container:hover .sk-estimator-doc-link.fitted:hover,\n",
       ".sk-estimator-doc-link.fitted:hover {\n",
       "  /* fitted */\n",
       "  background-color: var(--sklearn-color-fitted-level-3);\n",
       "  color: var(--sklearn-color-background);\n",
       "  text-decoration: none;\n",
       "}\n",
       "\n",
       "/* Span, style for the box shown on hovering the info icon */\n",
       ".sk-estimator-doc-link span {\n",
       "  display: none;\n",
       "  z-index: 9999;\n",
       "  position: relative;\n",
       "  font-weight: normal;\n",
       "  right: .2ex;\n",
       "  padding: .5ex;\n",
       "  margin: .5ex;\n",
       "  width: min-content;\n",
       "  min-width: 20ex;\n",
       "  max-width: 50ex;\n",
       "  color: var(--sklearn-color-text);\n",
       "  box-shadow: 2pt 2pt 4pt #999;\n",
       "  /* unfitted */\n",
       "  background: var(--sklearn-color-unfitted-level-0);\n",
       "  border: .5pt solid var(--sklearn-color-unfitted-level-3);\n",
       "}\n",
       "\n",
       ".sk-estimator-doc-link.fitted span {\n",
       "  /* fitted */\n",
       "  background: var(--sklearn-color-fitted-level-0);\n",
       "  border: var(--sklearn-color-fitted-level-3);\n",
       "}\n",
       "\n",
       ".sk-estimator-doc-link:hover span {\n",
       "  display: block;\n",
       "}\n",
       "\n",
       "/* \"?\"-specific style due to the `<a>` HTML tag */\n",
       "\n",
       "#sk-container-id-1 a.estimator_doc_link {\n",
       "  float: right;\n",
       "  font-size: 1rem;\n",
       "  line-height: 1em;\n",
       "  font-family: monospace;\n",
       "  background-color: var(--sklearn-color-background);\n",
       "  border-radius: 1rem;\n",
       "  height: 1rem;\n",
       "  width: 1rem;\n",
       "  text-decoration: none;\n",
       "  /* unfitted */\n",
       "  color: var(--sklearn-color-unfitted-level-1);\n",
       "  border: var(--sklearn-color-unfitted-level-1) 1pt solid;\n",
       "}\n",
       "\n",
       "#sk-container-id-1 a.estimator_doc_link.fitted {\n",
       "  /* fitted */\n",
       "  border: var(--sklearn-color-fitted-level-1) 1pt solid;\n",
       "  color: var(--sklearn-color-fitted-level-1);\n",
       "}\n",
       "\n",
       "/* On hover */\n",
       "#sk-container-id-1 a.estimator_doc_link:hover {\n",
       "  /* unfitted */\n",
       "  background-color: var(--sklearn-color-unfitted-level-3);\n",
       "  color: var(--sklearn-color-background);\n",
       "  text-decoration: none;\n",
       "}\n",
       "\n",
       "#sk-container-id-1 a.estimator_doc_link.fitted:hover {\n",
       "  /* fitted */\n",
       "  background-color: var(--sklearn-color-fitted-level-3);\n",
       "}\n",
       "</style><div id=\"sk-container-id-1\" class=\"sk-top-container\"><div class=\"sk-text-repr-fallback\"><pre>LinearRegression()</pre><b>In a Jupyter environment, please rerun this cell to show the HTML representation or trust the notebook. <br />On GitHub, the HTML representation is unable to render, please try loading this page with nbviewer.org.</b></div><div class=\"sk-container\" hidden><div class=\"sk-item\"><div class=\"sk-estimator fitted sk-toggleable\"><input class=\"sk-toggleable__control sk-hidden--visually\" id=\"sk-estimator-id-1\" type=\"checkbox\" checked><label for=\"sk-estimator-id-1\" class=\"sk-toggleable__label fitted sk-toggleable__label-arrow fitted\">&nbsp;&nbsp;LinearRegression<a class=\"sk-estimator-doc-link fitted\" rel=\"noreferrer\" target=\"_blank\" href=\"https://scikit-learn.org/1.4/modules/generated/sklearn.linear_model.LinearRegression.html\">?<span>Documentation for LinearRegression</span></a><span class=\"sk-estimator-doc-link fitted\">i<span>Fitted</span></span></label><div class=\"sk-toggleable__content fitted\"><pre>LinearRegression()</pre></div> </div></div></div></div>"
      ],
      "text/plain": [
       "LinearRegression()"
      ]
     },
     "execution_count": 42,
     "metadata": {},
     "output_type": "execute_result"
    }
   ],
   "source": [
    "from sklearn.model_selection import train_test_split\n",
    "from sklearn.linear_model import LinearRegression\n",
    "from sklearn.metrics import mean_squared_error, r2_score\n",
    "\n",
    "final_df.dropna(inplace = True)\n",
    "X = final_df.drop('Calories_Burned', axis = 1)\n",
    "y = final_df['Calories_Burned']\n",
    "X_train, X_test, y_train, y_test = train_test_split(X, y, test_size=0.2, random_state=42)\n",
    "\n",
    "model = LinearRegression()\n",
    "model.fit(X_train, y_train)"
   ]
  },
  {
   "cell_type": "markdown",
   "id": "f1c81058-89a0-4f3e-a935-cc55c05461fe",
   "metadata": {},
   "source": [
    "## Model Predictions"
   ]
  },
  {
   "cell_type": "code",
   "execution_count": 43,
   "id": "d12a1090-873c-48c2-83cb-6a2143a3d870",
   "metadata": {},
   "outputs": [],
   "source": [
    "y_pred = model.predict(X_test)"
   ]
  },
  {
   "cell_type": "markdown",
   "id": "033b86a2-6aa1-42a5-94e7-87d97d1941a6",
   "metadata": {},
   "source": [
    "## Model Evaluation"
   ]
  },
  {
   "cell_type": "code",
   "execution_count": 44,
   "id": "68f60c68-6fba-414c-96be-570c4cbe49f8",
   "metadata": {},
   "outputs": [
    {
     "name": "stdout",
     "output_type": "stream",
     "text": [
      "1887.7432999291793\n",
      "0.9667942526657842\n"
     ]
    }
   ],
   "source": [
    "y_pred = model.predict(X_test)\n",
    "\n",
    "mse = mean_squared_error(y_test, y_pred)\n",
    "r2 = r2_score(y_test, y_pred)\n",
    "\n",
    "print(mse)\n",
    "print(r2)"
   ]
  }
 ],
 "metadata": {
  "kernelspec": {
   "display_name": "Python 3 (ipykernel)",
   "language": "python",
   "name": "python3"
  },
  "language_info": {
   "codemirror_mode": {
    "name": "ipython",
    "version": 3
   },
   "file_extension": ".py",
   "mimetype": "text/x-python",
   "name": "python",
   "nbconvert_exporter": "python",
   "pygments_lexer": "ipython3",
   "version": "3.12.2"
  }
 },
 "nbformat": 4,
 "nbformat_minor": 5
}
